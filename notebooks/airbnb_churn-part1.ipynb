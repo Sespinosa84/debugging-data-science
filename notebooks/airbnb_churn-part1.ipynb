{
 "cells": [
  {
   "cell_type": "code",
   "execution_count": 3,
   "metadata": {},
   "outputs": [],
   "source": [
    "import pandas as pd\n",
    "import numpy as np\n",
    "import seaborn as sns\n",
    "import matplotlib.pyplot as plt\n",
    "\n",
    "from sklearn.linear_model import LogisticRegression\n",
    "from sklearn.neighbors import KNeighborsClassifier\n",
    "from sklearn.model_selection import cross_val_score, train_test_split, cross_validate, learning_curve\n",
    "from sklearn.metrics import confusion_matrix\n",
    "from sklearn.metrics import roc_curve, auc, classification_report\n",
    "\n",
    "%matplotlib inline"
   ]
  },
  {
   "cell_type": "code",
   "execution_count": 72,
   "metadata": {},
   "outputs": [
    {
     "data": {
      "text/html": [
       "<div>\n",
       "<style scoped>\n",
       "    .dataframe tbody tr th:only-of-type {\n",
       "        vertical-align: middle;\n",
       "    }\n",
       "\n",
       "    .dataframe tbody tr th {\n",
       "        vertical-align: top;\n",
       "    }\n",
       "\n",
       "    .dataframe thead th {\n",
       "        text-align: right;\n",
       "    }\n",
       "</style>\n",
       "<table border=\"1\" class=\"dataframe\">\n",
       "  <thead>\n",
       "    <tr style=\"text-align: right;\">\n",
       "      <th></th>\n",
       "      <th>host_is_superhost</th>\n",
       "      <th>price</th>\n",
       "      <th>room_type</th>\n",
       "      <th>accommodates</th>\n",
       "      <th>review_scores_cleanliness</th>\n",
       "      <th>review_scores_location</th>\n",
       "      <th>host_identity_verified</th>\n",
       "      <th>host_response_time</th>\n",
       "      <th>host_response_rate</th>\n",
       "      <th>host_has_profile_pic</th>\n",
       "      <th>availability_365</th>\n",
       "      <th>calculated_host_listings_count</th>\n",
       "      <th>calendar_updated</th>\n",
       "      <th>minimum_nights</th>\n",
       "      <th>number_of_reviews</th>\n",
       "      <th>reviews_per_month</th>\n",
       "      <th>churn</th>\n",
       "      <th>days_since_last_review</th>\n",
       "    </tr>\n",
       "  </thead>\n",
       "  <tbody>\n",
       "    <tr>\n",
       "      <th>19444</th>\n",
       "      <td>f</td>\n",
       "      <td>200.0</td>\n",
       "      <td>Entire home/apt</td>\n",
       "      <td>3</td>\n",
       "      <td>10.0</td>\n",
       "      <td>10.0</td>\n",
       "      <td>f</td>\n",
       "      <td>a few days or more</td>\n",
       "      <td>0.0</td>\n",
       "      <td>f</td>\n",
       "      <td>243.0</td>\n",
       "      <td>1.0</td>\n",
       "      <td>4 months ago</td>\n",
       "      <td>7</td>\n",
       "      <td>4</td>\n",
       "      <td>0.0</td>\n",
       "      <td>True</td>\n",
       "      <td>850.0</td>\n",
       "    </tr>\n",
       "    <tr>\n",
       "      <th>1520</th>\n",
       "      <td>f</td>\n",
       "      <td>450.0</td>\n",
       "      <td>Entire home/apt</td>\n",
       "      <td>4</td>\n",
       "      <td>10.0</td>\n",
       "      <td>10.0</td>\n",
       "      <td>f</td>\n",
       "      <td>a few days or more</td>\n",
       "      <td>0.0</td>\n",
       "      <td>f</td>\n",
       "      <td>208.0</td>\n",
       "      <td>1.0</td>\n",
       "      <td>2 weeks ago</td>\n",
       "      <td>3</td>\n",
       "      <td>7</td>\n",
       "      <td>0.0</td>\n",
       "      <td>True</td>\n",
       "      <td>505.0</td>\n",
       "    </tr>\n",
       "    <tr>\n",
       "      <th>1517</th>\n",
       "      <td>f</td>\n",
       "      <td>28.0</td>\n",
       "      <td>Shared room</td>\n",
       "      <td>1</td>\n",
       "      <td>0.0</td>\n",
       "      <td>0.0</td>\n",
       "      <td>f</td>\n",
       "      <td>a few days or more</td>\n",
       "      <td>0.0</td>\n",
       "      <td>f</td>\n",
       "      <td>364.0</td>\n",
       "      <td>1.0</td>\n",
       "      <td>6 weeks ago</td>\n",
       "      <td>1</td>\n",
       "      <td>0</td>\n",
       "      <td>0.0</td>\n",
       "      <td>True</td>\n",
       "      <td>3650.0</td>\n",
       "    </tr>\n",
       "    <tr>\n",
       "      <th>21691</th>\n",
       "      <td>f</td>\n",
       "      <td>48.0</td>\n",
       "      <td>Private room</td>\n",
       "      <td>2</td>\n",
       "      <td>8.0</td>\n",
       "      <td>6.0</td>\n",
       "      <td>f</td>\n",
       "      <td>a few days or more</td>\n",
       "      <td>0.0</td>\n",
       "      <td>f</td>\n",
       "      <td>143.0</td>\n",
       "      <td>1.0</td>\n",
       "      <td>4 months ago</td>\n",
       "      <td>1</td>\n",
       "      <td>1</td>\n",
       "      <td>0.0</td>\n",
       "      <td>True</td>\n",
       "      <td>612.0</td>\n",
       "    </tr>\n",
       "    <tr>\n",
       "      <th>21706</th>\n",
       "      <td>f</td>\n",
       "      <td>160.0</td>\n",
       "      <td>Private room</td>\n",
       "      <td>2</td>\n",
       "      <td>0.0</td>\n",
       "      <td>0.0</td>\n",
       "      <td>f</td>\n",
       "      <td>a few days or more</td>\n",
       "      <td>0.0</td>\n",
       "      <td>f</td>\n",
       "      <td>365.0</td>\n",
       "      <td>1.0</td>\n",
       "      <td>2 months ago</td>\n",
       "      <td>1</td>\n",
       "      <td>0</td>\n",
       "      <td>0.0</td>\n",
       "      <td>True</td>\n",
       "      <td>3650.0</td>\n",
       "    </tr>\n",
       "  </tbody>\n",
       "</table>\n",
       "</div>"
      ],
      "text/plain": [
       "      host_is_superhost  price        room_type  accommodates  \\\n",
       "19444                 f  200.0  Entire home/apt             3   \n",
       "1520                  f  450.0  Entire home/apt             4   \n",
       "1517                  f   28.0      Shared room             1   \n",
       "21691                 f   48.0     Private room             2   \n",
       "21706                 f  160.0     Private room             2   \n",
       "\n",
       "       review_scores_cleanliness  review_scores_location  \\\n",
       "19444                       10.0                    10.0   \n",
       "1520                        10.0                    10.0   \n",
       "1517                         0.0                     0.0   \n",
       "21691                        8.0                     6.0   \n",
       "21706                        0.0                     0.0   \n",
       "\n",
       "      host_identity_verified  host_response_time  host_response_rate  \\\n",
       "19444                      f  a few days or more                 0.0   \n",
       "1520                       f  a few days or more                 0.0   \n",
       "1517                       f  a few days or more                 0.0   \n",
       "21691                      f  a few days or more                 0.0   \n",
       "21706                      f  a few days or more                 0.0   \n",
       "\n",
       "      host_has_profile_pic  availability_365  calculated_host_listings_count  \\\n",
       "19444                    f             243.0                             1.0   \n",
       "1520                     f             208.0                             1.0   \n",
       "1517                     f             364.0                             1.0   \n",
       "21691                    f             143.0                             1.0   \n",
       "21706                    f             365.0                             1.0   \n",
       "\n",
       "      calendar_updated  minimum_nights  number_of_reviews  reviews_per_month  \\\n",
       "19444     4 months ago               7                  4                0.0   \n",
       "1520       2 weeks ago               3                  7                0.0   \n",
       "1517       6 weeks ago               1                  0                0.0   \n",
       "21691     4 months ago               1                  1                0.0   \n",
       "21706     2 months ago               1                  0                0.0   \n",
       "\n",
       "       churn  days_since_last_review  \n",
       "19444   True                   850.0  \n",
       "1520    True                   505.0  \n",
       "1517    True                  3650.0  \n",
       "21691   True                   612.0  \n",
       "21706   True                  3650.0  "
      ]
     },
     "execution_count": 72,
     "metadata": {},
     "output_type": "execute_result"
    }
   ],
   "source": [
    "df = pd.read_csv('data/churn.csv', index_col=0)\n",
    "df.head()"
   ]
  },
  {
   "cell_type": "code",
   "execution_count": 73,
   "metadata": {},
   "outputs": [
    {
     "data": {
      "text/html": [
       "<div>\n",
       "<style scoped>\n",
       "    .dataframe tbody tr th:only-of-type {\n",
       "        vertical-align: middle;\n",
       "    }\n",
       "\n",
       "    .dataframe tbody tr th {\n",
       "        vertical-align: top;\n",
       "    }\n",
       "\n",
       "    .dataframe thead th {\n",
       "        text-align: right;\n",
       "    }\n",
       "</style>\n",
       "<table border=\"1\" class=\"dataframe\">\n",
       "  <thead>\n",
       "    <tr style=\"text-align: right;\">\n",
       "      <th></th>\n",
       "      <th>host_is_superhost</th>\n",
       "      <th>price</th>\n",
       "      <th>room_type</th>\n",
       "      <th>accommodates</th>\n",
       "      <th>review_scores_cleanliness</th>\n",
       "      <th>review_scores_location</th>\n",
       "      <th>host_identity_verified</th>\n",
       "      <th>host_response_time</th>\n",
       "      <th>host_response_rate</th>\n",
       "      <th>host_has_profile_pic</th>\n",
       "      <th>availability_365</th>\n",
       "      <th>calculated_host_listings_count</th>\n",
       "      <th>calendar_updated</th>\n",
       "      <th>minimum_nights</th>\n",
       "      <th>number_of_reviews</th>\n",
       "      <th>reviews_per_month</th>\n",
       "      <th>days_since_last_review</th>\n",
       "    </tr>\n",
       "  </thead>\n",
       "  <tbody>\n",
       "    <tr>\n",
       "      <th>19444</th>\n",
       "      <td>f</td>\n",
       "      <td>200.0</td>\n",
       "      <td>Entire home/apt</td>\n",
       "      <td>3</td>\n",
       "      <td>10.0</td>\n",
       "      <td>10.0</td>\n",
       "      <td>f</td>\n",
       "      <td>a few days or more</td>\n",
       "      <td>0.0</td>\n",
       "      <td>f</td>\n",
       "      <td>243.0</td>\n",
       "      <td>1.0</td>\n",
       "      <td>4 months ago</td>\n",
       "      <td>7</td>\n",
       "      <td>4</td>\n",
       "      <td>0.0</td>\n",
       "      <td>850.0</td>\n",
       "    </tr>\n",
       "    <tr>\n",
       "      <th>1520</th>\n",
       "      <td>f</td>\n",
       "      <td>450.0</td>\n",
       "      <td>Entire home/apt</td>\n",
       "      <td>4</td>\n",
       "      <td>10.0</td>\n",
       "      <td>10.0</td>\n",
       "      <td>f</td>\n",
       "      <td>a few days or more</td>\n",
       "      <td>0.0</td>\n",
       "      <td>f</td>\n",
       "      <td>208.0</td>\n",
       "      <td>1.0</td>\n",
       "      <td>2 weeks ago</td>\n",
       "      <td>3</td>\n",
       "      <td>7</td>\n",
       "      <td>0.0</td>\n",
       "      <td>505.0</td>\n",
       "    </tr>\n",
       "    <tr>\n",
       "      <th>1517</th>\n",
       "      <td>f</td>\n",
       "      <td>28.0</td>\n",
       "      <td>Shared room</td>\n",
       "      <td>1</td>\n",
       "      <td>0.0</td>\n",
       "      <td>0.0</td>\n",
       "      <td>f</td>\n",
       "      <td>a few days or more</td>\n",
       "      <td>0.0</td>\n",
       "      <td>f</td>\n",
       "      <td>364.0</td>\n",
       "      <td>1.0</td>\n",
       "      <td>6 weeks ago</td>\n",
       "      <td>1</td>\n",
       "      <td>0</td>\n",
       "      <td>0.0</td>\n",
       "      <td>3650.0</td>\n",
       "    </tr>\n",
       "    <tr>\n",
       "      <th>21691</th>\n",
       "      <td>f</td>\n",
       "      <td>48.0</td>\n",
       "      <td>Private room</td>\n",
       "      <td>2</td>\n",
       "      <td>8.0</td>\n",
       "      <td>6.0</td>\n",
       "      <td>f</td>\n",
       "      <td>a few days or more</td>\n",
       "      <td>0.0</td>\n",
       "      <td>f</td>\n",
       "      <td>143.0</td>\n",
       "      <td>1.0</td>\n",
       "      <td>4 months ago</td>\n",
       "      <td>1</td>\n",
       "      <td>1</td>\n",
       "      <td>0.0</td>\n",
       "      <td>612.0</td>\n",
       "    </tr>\n",
       "    <tr>\n",
       "      <th>21706</th>\n",
       "      <td>f</td>\n",
       "      <td>160.0</td>\n",
       "      <td>Private room</td>\n",
       "      <td>2</td>\n",
       "      <td>0.0</td>\n",
       "      <td>0.0</td>\n",
       "      <td>f</td>\n",
       "      <td>a few days or more</td>\n",
       "      <td>0.0</td>\n",
       "      <td>f</td>\n",
       "      <td>365.0</td>\n",
       "      <td>1.0</td>\n",
       "      <td>2 months ago</td>\n",
       "      <td>1</td>\n",
       "      <td>0</td>\n",
       "      <td>0.0</td>\n",
       "      <td>3650.0</td>\n",
       "    </tr>\n",
       "    <tr>\n",
       "      <th>1613</th>\n",
       "      <td>f</td>\n",
       "      <td>80.0</td>\n",
       "      <td>Private room</td>\n",
       "      <td>2</td>\n",
       "      <td>0.0</td>\n",
       "      <td>0.0</td>\n",
       "      <td>f</td>\n",
       "      <td>a few days or more</td>\n",
       "      <td>0.0</td>\n",
       "      <td>f</td>\n",
       "      <td>14.0</td>\n",
       "      <td>1.0</td>\n",
       "      <td>4 days ago</td>\n",
       "      <td>1</td>\n",
       "      <td>0</td>\n",
       "      <td>0.0</td>\n",
       "      <td>3650.0</td>\n",
       "    </tr>\n",
       "    <tr>\n",
       "      <th>21724</th>\n",
       "      <td>f</td>\n",
       "      <td>80.0</td>\n",
       "      <td>Private room</td>\n",
       "      <td>3</td>\n",
       "      <td>6.0</td>\n",
       "      <td>4.0</td>\n",
       "      <td>f</td>\n",
       "      <td>a few days or more</td>\n",
       "      <td>0.0</td>\n",
       "      <td>f</td>\n",
       "      <td>365.0</td>\n",
       "      <td>1.0</td>\n",
       "      <td>6 weeks ago</td>\n",
       "      <td>2</td>\n",
       "      <td>1</td>\n",
       "      <td>0.0</td>\n",
       "      <td>666.0</td>\n",
       "    </tr>\n",
       "    <tr>\n",
       "      <th>21720</th>\n",
       "      <td>f</td>\n",
       "      <td>120.0</td>\n",
       "      <td>Entire home/apt</td>\n",
       "      <td>4</td>\n",
       "      <td>6.0</td>\n",
       "      <td>10.0</td>\n",
       "      <td>f</td>\n",
       "      <td>a few days or more</td>\n",
       "      <td>0.0</td>\n",
       "      <td>f</td>\n",
       "      <td>0.0</td>\n",
       "      <td>1.0</td>\n",
       "      <td>10 months ago</td>\n",
       "      <td>5</td>\n",
       "      <td>1</td>\n",
       "      <td>0.0</td>\n",
       "      <td>986.0</td>\n",
       "    </tr>\n",
       "    <tr>\n",
       "      <th>19452</th>\n",
       "      <td>f</td>\n",
       "      <td>199.0</td>\n",
       "      <td>Entire home/apt</td>\n",
       "      <td>2</td>\n",
       "      <td>9.0</td>\n",
       "      <td>10.0</td>\n",
       "      <td>f</td>\n",
       "      <td>a few days or more</td>\n",
       "      <td>0.0</td>\n",
       "      <td>f</td>\n",
       "      <td>365.0</td>\n",
       "      <td>1.0</td>\n",
       "      <td>4 weeks ago</td>\n",
       "      <td>2</td>\n",
       "      <td>6</td>\n",
       "      <td>0.0</td>\n",
       "      <td>594.0</td>\n",
       "    </tr>\n",
       "    <tr>\n",
       "      <th>21690</th>\n",
       "      <td>f</td>\n",
       "      <td>89.0</td>\n",
       "      <td>Private room</td>\n",
       "      <td>2</td>\n",
       "      <td>0.0</td>\n",
       "      <td>0.0</td>\n",
       "      <td>f</td>\n",
       "      <td>a few days or more</td>\n",
       "      <td>0.0</td>\n",
       "      <td>f</td>\n",
       "      <td>362.0</td>\n",
       "      <td>1.0</td>\n",
       "      <td>2 months ago</td>\n",
       "      <td>1</td>\n",
       "      <td>0</td>\n",
       "      <td>0.0</td>\n",
       "      <td>3650.0</td>\n",
       "    </tr>\n",
       "    <tr>\n",
       "      <th>24683</th>\n",
       "      <td>f</td>\n",
       "      <td>100.0</td>\n",
       "      <td>Private room</td>\n",
       "      <td>8</td>\n",
       "      <td>10.0</td>\n",
       "      <td>8.0</td>\n",
       "      <td>f</td>\n",
       "      <td>a few days or more</td>\n",
       "      <td>0.0</td>\n",
       "      <td>f</td>\n",
       "      <td>251.0</td>\n",
       "      <td>1.0</td>\n",
       "      <td>2 weeks ago</td>\n",
       "      <td>1</td>\n",
       "      <td>2</td>\n",
       "      <td>0.0</td>\n",
       "      <td>515.0</td>\n",
       "    </tr>\n",
       "    <tr>\n",
       "      <th>24681</th>\n",
       "      <td>f</td>\n",
       "      <td>250.0</td>\n",
       "      <td>Entire home/apt</td>\n",
       "      <td>6</td>\n",
       "      <td>10.0</td>\n",
       "      <td>10.0</td>\n",
       "      <td>f</td>\n",
       "      <td>a few days or more</td>\n",
       "      <td>0.0</td>\n",
       "      <td>f</td>\n",
       "      <td>213.0</td>\n",
       "      <td>1.0</td>\n",
       "      <td>2 weeks ago</td>\n",
       "      <td>4</td>\n",
       "      <td>5</td>\n",
       "      <td>0.0</td>\n",
       "      <td>513.0</td>\n",
       "    </tr>\n",
       "    <tr>\n",
       "      <th>24677</th>\n",
       "      <td>f</td>\n",
       "      <td>90.0</td>\n",
       "      <td>Entire home/apt</td>\n",
       "      <td>2</td>\n",
       "      <td>0.0</td>\n",
       "      <td>0.0</td>\n",
       "      <td>f</td>\n",
       "      <td>a few days or more</td>\n",
       "      <td>0.0</td>\n",
       "      <td>f</td>\n",
       "      <td>4.0</td>\n",
       "      <td>1.0</td>\n",
       "      <td>4 weeks ago</td>\n",
       "      <td>1</td>\n",
       "      <td>0</td>\n",
       "      <td>0.0</td>\n",
       "      <td>3650.0</td>\n",
       "    </tr>\n",
       "    <tr>\n",
       "      <th>19400</th>\n",
       "      <td>f</td>\n",
       "      <td>110.0</td>\n",
       "      <td>Entire home/apt</td>\n",
       "      <td>2</td>\n",
       "      <td>10.0</td>\n",
       "      <td>10.0</td>\n",
       "      <td>f</td>\n",
       "      <td>a few days or more</td>\n",
       "      <td>0.0</td>\n",
       "      <td>f</td>\n",
       "      <td>364.0</td>\n",
       "      <td>1.0</td>\n",
       "      <td>a week ago</td>\n",
       "      <td>14</td>\n",
       "      <td>4</td>\n",
       "      <td>0.0</td>\n",
       "      <td>602.0</td>\n",
       "    </tr>\n",
       "    <tr>\n",
       "      <th>21685</th>\n",
       "      <td>f</td>\n",
       "      <td>95.0</td>\n",
       "      <td>Private room</td>\n",
       "      <td>2</td>\n",
       "      <td>8.0</td>\n",
       "      <td>8.0</td>\n",
       "      <td>f</td>\n",
       "      <td>a few days or more</td>\n",
       "      <td>0.0</td>\n",
       "      <td>f</td>\n",
       "      <td>170.0</td>\n",
       "      <td>1.0</td>\n",
       "      <td>1 week ago</td>\n",
       "      <td>3</td>\n",
       "      <td>1</td>\n",
       "      <td>0.0</td>\n",
       "      <td>618.0</td>\n",
       "    </tr>\n",
       "    <tr>\n",
       "      <th>21672</th>\n",
       "      <td>f</td>\n",
       "      <td>749.0</td>\n",
       "      <td>Entire home/apt</td>\n",
       "      <td>6</td>\n",
       "      <td>0.0</td>\n",
       "      <td>0.0</td>\n",
       "      <td>f</td>\n",
       "      <td>a few days or more</td>\n",
       "      <td>0.0</td>\n",
       "      <td>f</td>\n",
       "      <td>365.0</td>\n",
       "      <td>1.0</td>\n",
       "      <td>3 weeks ago</td>\n",
       "      <td>1</td>\n",
       "      <td>0</td>\n",
       "      <td>0.0</td>\n",
       "      <td>3650.0</td>\n",
       "    </tr>\n",
       "    <tr>\n",
       "      <th>21669</th>\n",
       "      <td>f</td>\n",
       "      <td>205.0</td>\n",
       "      <td>Entire home/apt</td>\n",
       "      <td>3</td>\n",
       "      <td>6.0</td>\n",
       "      <td>10.0</td>\n",
       "      <td>f</td>\n",
       "      <td>a few days or more</td>\n",
       "      <td>0.0</td>\n",
       "      <td>f</td>\n",
       "      <td>365.0</td>\n",
       "      <td>1.0</td>\n",
       "      <td>3 weeks ago</td>\n",
       "      <td>1</td>\n",
       "      <td>1</td>\n",
       "      <td>0.0</td>\n",
       "      <td>534.0</td>\n",
       "    </tr>\n",
       "    <tr>\n",
       "      <th>21764</th>\n",
       "      <td>f</td>\n",
       "      <td>75.0</td>\n",
       "      <td>Shared room</td>\n",
       "      <td>2</td>\n",
       "      <td>10.0</td>\n",
       "      <td>10.0</td>\n",
       "      <td>f</td>\n",
       "      <td>a few days or more</td>\n",
       "      <td>0.0</td>\n",
       "      <td>f</td>\n",
       "      <td>361.0</td>\n",
       "      <td>1.0</td>\n",
       "      <td>3 weeks ago</td>\n",
       "      <td>1</td>\n",
       "      <td>11</td>\n",
       "      <td>0.0</td>\n",
       "      <td>508.0</td>\n",
       "    </tr>\n",
       "    <tr>\n",
       "      <th>19485</th>\n",
       "      <td>f</td>\n",
       "      <td>80.0</td>\n",
       "      <td>Private room</td>\n",
       "      <td>1</td>\n",
       "      <td>0.0</td>\n",
       "      <td>0.0</td>\n",
       "      <td>f</td>\n",
       "      <td>a few days or more</td>\n",
       "      <td>0.0</td>\n",
       "      <td>f</td>\n",
       "      <td>333.0</td>\n",
       "      <td>1.0</td>\n",
       "      <td>4 weeks ago</td>\n",
       "      <td>3</td>\n",
       "      <td>0</td>\n",
       "      <td>0.0</td>\n",
       "      <td>3650.0</td>\n",
       "    </tr>\n",
       "    <tr>\n",
       "      <th>10379</th>\n",
       "      <td>f</td>\n",
       "      <td>189.0</td>\n",
       "      <td>Entire home/apt</td>\n",
       "      <td>3</td>\n",
       "      <td>10.0</td>\n",
       "      <td>10.0</td>\n",
       "      <td>f</td>\n",
       "      <td>a few days or more</td>\n",
       "      <td>0.0</td>\n",
       "      <td>f</td>\n",
       "      <td>335.0</td>\n",
       "      <td>1.0</td>\n",
       "      <td>2 months ago</td>\n",
       "      <td>2</td>\n",
       "      <td>18</td>\n",
       "      <td>0.0</td>\n",
       "      <td>511.0</td>\n",
       "    </tr>\n",
       "  </tbody>\n",
       "</table>\n",
       "</div>"
      ],
      "text/plain": [
       "      host_is_superhost  price        room_type  accommodates  \\\n",
       "19444                 f  200.0  Entire home/apt             3   \n",
       "1520                  f  450.0  Entire home/apt             4   \n",
       "1517                  f   28.0      Shared room             1   \n",
       "21691                 f   48.0     Private room             2   \n",
       "21706                 f  160.0     Private room             2   \n",
       "1613                  f   80.0     Private room             2   \n",
       "21724                 f   80.0     Private room             3   \n",
       "21720                 f  120.0  Entire home/apt             4   \n",
       "19452                 f  199.0  Entire home/apt             2   \n",
       "21690                 f   89.0     Private room             2   \n",
       "24683                 f  100.0     Private room             8   \n",
       "24681                 f  250.0  Entire home/apt             6   \n",
       "24677                 f   90.0  Entire home/apt             2   \n",
       "19400                 f  110.0  Entire home/apt             2   \n",
       "21685                 f   95.0     Private room             2   \n",
       "21672                 f  749.0  Entire home/apt             6   \n",
       "21669                 f  205.0  Entire home/apt             3   \n",
       "21764                 f   75.0      Shared room             2   \n",
       "19485                 f   80.0     Private room             1   \n",
       "10379                 f  189.0  Entire home/apt             3   \n",
       "\n",
       "       review_scores_cleanliness  review_scores_location  \\\n",
       "19444                       10.0                    10.0   \n",
       "1520                        10.0                    10.0   \n",
       "1517                         0.0                     0.0   \n",
       "21691                        8.0                     6.0   \n",
       "21706                        0.0                     0.0   \n",
       "1613                         0.0                     0.0   \n",
       "21724                        6.0                     4.0   \n",
       "21720                        6.0                    10.0   \n",
       "19452                        9.0                    10.0   \n",
       "21690                        0.0                     0.0   \n",
       "24683                       10.0                     8.0   \n",
       "24681                       10.0                    10.0   \n",
       "24677                        0.0                     0.0   \n",
       "19400                       10.0                    10.0   \n",
       "21685                        8.0                     8.0   \n",
       "21672                        0.0                     0.0   \n",
       "21669                        6.0                    10.0   \n",
       "21764                       10.0                    10.0   \n",
       "19485                        0.0                     0.0   \n",
       "10379                       10.0                    10.0   \n",
       "\n",
       "      host_identity_verified  host_response_time  host_response_rate  \\\n",
       "19444                      f  a few days or more                 0.0   \n",
       "1520                       f  a few days or more                 0.0   \n",
       "1517                       f  a few days or more                 0.0   \n",
       "21691                      f  a few days or more                 0.0   \n",
       "21706                      f  a few days or more                 0.0   \n",
       "1613                       f  a few days or more                 0.0   \n",
       "21724                      f  a few days or more                 0.0   \n",
       "21720                      f  a few days or more                 0.0   \n",
       "19452                      f  a few days or more                 0.0   \n",
       "21690                      f  a few days or more                 0.0   \n",
       "24683                      f  a few days or more                 0.0   \n",
       "24681                      f  a few days or more                 0.0   \n",
       "24677                      f  a few days or more                 0.0   \n",
       "19400                      f  a few days or more                 0.0   \n",
       "21685                      f  a few days or more                 0.0   \n",
       "21672                      f  a few days or more                 0.0   \n",
       "21669                      f  a few days or more                 0.0   \n",
       "21764                      f  a few days or more                 0.0   \n",
       "19485                      f  a few days or more                 0.0   \n",
       "10379                      f  a few days or more                 0.0   \n",
       "\n",
       "      host_has_profile_pic  availability_365  calculated_host_listings_count  \\\n",
       "19444                    f             243.0                             1.0   \n",
       "1520                     f             208.0                             1.0   \n",
       "1517                     f             364.0                             1.0   \n",
       "21691                    f             143.0                             1.0   \n",
       "21706                    f             365.0                             1.0   \n",
       "1613                     f              14.0                             1.0   \n",
       "21724                    f             365.0                             1.0   \n",
       "21720                    f               0.0                             1.0   \n",
       "19452                    f             365.0                             1.0   \n",
       "21690                    f             362.0                             1.0   \n",
       "24683                    f             251.0                             1.0   \n",
       "24681                    f             213.0                             1.0   \n",
       "24677                    f               4.0                             1.0   \n",
       "19400                    f             364.0                             1.0   \n",
       "21685                    f             170.0                             1.0   \n",
       "21672                    f             365.0                             1.0   \n",
       "21669                    f             365.0                             1.0   \n",
       "21764                    f             361.0                             1.0   \n",
       "19485                    f             333.0                             1.0   \n",
       "10379                    f             335.0                             1.0   \n",
       "\n",
       "      calendar_updated  minimum_nights  number_of_reviews  reviews_per_month  \\\n",
       "19444     4 months ago               7                  4                0.0   \n",
       "1520       2 weeks ago               3                  7                0.0   \n",
       "1517       6 weeks ago               1                  0                0.0   \n",
       "21691     4 months ago               1                  1                0.0   \n",
       "21706     2 months ago               1                  0                0.0   \n",
       "1613        4 days ago               1                  0                0.0   \n",
       "21724      6 weeks ago               2                  1                0.0   \n",
       "21720    10 months ago               5                  1                0.0   \n",
       "19452      4 weeks ago               2                  6                0.0   \n",
       "21690     2 months ago               1                  0                0.0   \n",
       "24683      2 weeks ago               1                  2                0.0   \n",
       "24681      2 weeks ago               4                  5                0.0   \n",
       "24677      4 weeks ago               1                  0                0.0   \n",
       "19400       a week ago              14                  4                0.0   \n",
       "21685       1 week ago               3                  1                0.0   \n",
       "21672      3 weeks ago               1                  0                0.0   \n",
       "21669      3 weeks ago               1                  1                0.0   \n",
       "21764      3 weeks ago               1                 11                0.0   \n",
       "19485      4 weeks ago               3                  0                0.0   \n",
       "10379     2 months ago               2                 18                0.0   \n",
       "\n",
       "       days_since_last_review  \n",
       "19444                   850.0  \n",
       "1520                    505.0  \n",
       "1517                   3650.0  \n",
       "21691                   612.0  \n",
       "21706                  3650.0  \n",
       "1613                   3650.0  \n",
       "21724                   666.0  \n",
       "21720                   986.0  \n",
       "19452                   594.0  \n",
       "21690                  3650.0  \n",
       "24683                   515.0  \n",
       "24681                   513.0  \n",
       "24677                  3650.0  \n",
       "19400                   602.0  \n",
       "21685                   618.0  \n",
       "21672                  3650.0  \n",
       "21669                   534.0  \n",
       "21764                   508.0  \n",
       "19485                  3650.0  \n",
       "10379                   511.0  "
      ]
     },
     "execution_count": 73,
     "metadata": {},
     "output_type": "execute_result"
    }
   ],
   "source": [
    "labels = df.churn\n",
    "features = df.drop('churn', axis=1)\n",
    "features.head(20)"
   ]
  },
  {
   "cell_type": "code",
   "execution_count": 74,
   "metadata": {},
   "outputs": [],
   "source": [
    "drop_columns = ['host_response_time', \n",
    "                'calendar_updated',\n",
    "                'days_since_last_review']"
   ]
  },
  {
   "cell_type": "code",
   "execution_count": 75,
   "metadata": {},
   "outputs": [
    {
     "name": "stdout",
     "output_type": "stream",
     "text": [
      "<class 'pandas.core.frame.DataFrame'>\n",
      "Int64Index: 77201 entries, 19444 to 0\n",
      "Data columns (total 14 columns):\n",
      "host_is_superhost                 77201 non-null object\n",
      "price                             77201 non-null float64\n",
      "room_type                         77201 non-null object\n",
      "accommodates                      77201 non-null int64\n",
      "review_scores_cleanliness         77201 non-null float64\n",
      "review_scores_location            77201 non-null float64\n",
      "host_identity_verified            77201 non-null object\n",
      "host_response_rate                77201 non-null float64\n",
      "host_has_profile_pic              77201 non-null object\n",
      "availability_365                  77201 non-null float64\n",
      "calculated_host_listings_count    77201 non-null float64\n",
      "minimum_nights                    77201 non-null int64\n",
      "number_of_reviews                 77201 non-null int64\n",
      "reviews_per_month                 77201 non-null float64\n",
      "dtypes: float64(7), int64(3), object(4)\n",
      "memory usage: 8.8+ MB\n"
     ]
    }
   ],
   "source": [
    "features.drop(drop_columns, axis=1).info()"
   ]
  },
  {
   "cell_type": "code",
   "execution_count": 76,
   "metadata": {
    "scrolled": true
   },
   "outputs": [
    {
     "data": {
      "text/html": [
       "<div>\n",
       "<style scoped>\n",
       "    .dataframe tbody tr th:only-of-type {\n",
       "        vertical-align: middle;\n",
       "    }\n",
       "\n",
       "    .dataframe tbody tr th {\n",
       "        vertical-align: top;\n",
       "    }\n",
       "\n",
       "    .dataframe thead th {\n",
       "        text-align: right;\n",
       "    }\n",
       "</style>\n",
       "<table border=\"1\" class=\"dataframe\">\n",
       "  <thead>\n",
       "    <tr style=\"text-align: right;\">\n",
       "      <th></th>\n",
       "      <th>price</th>\n",
       "      <th>accommodates</th>\n",
       "      <th>review_scores_cleanliness</th>\n",
       "      <th>review_scores_location</th>\n",
       "      <th>host_response_rate</th>\n",
       "      <th>availability_365</th>\n",
       "      <th>calculated_host_listings_count</th>\n",
       "      <th>minimum_nights</th>\n",
       "      <th>number_of_reviews</th>\n",
       "      <th>reviews_per_month</th>\n",
       "      <th>host_is_superhost_f</th>\n",
       "      <th>host_is_superhost_t</th>\n",
       "      <th>room_type_Entire home/apt</th>\n",
       "      <th>room_type_Private room</th>\n",
       "      <th>room_type_Shared room</th>\n",
       "      <th>host_identity_verified_f</th>\n",
       "      <th>host_identity_verified_t</th>\n",
       "      <th>host_has_profile_pic_f</th>\n",
       "      <th>host_has_profile_pic_t</th>\n",
       "    </tr>\n",
       "  </thead>\n",
       "  <tbody>\n",
       "    <tr>\n",
       "      <th>19444</th>\n",
       "      <td>200.0</td>\n",
       "      <td>3</td>\n",
       "      <td>10.0</td>\n",
       "      <td>10.0</td>\n",
       "      <td>0.0</td>\n",
       "      <td>243.0</td>\n",
       "      <td>1.0</td>\n",
       "      <td>7</td>\n",
       "      <td>4</td>\n",
       "      <td>0.00</td>\n",
       "      <td>1</td>\n",
       "      <td>0</td>\n",
       "      <td>1</td>\n",
       "      <td>0</td>\n",
       "      <td>0</td>\n",
       "      <td>1</td>\n",
       "      <td>0</td>\n",
       "      <td>1</td>\n",
       "      <td>0</td>\n",
       "    </tr>\n",
       "    <tr>\n",
       "      <th>1520</th>\n",
       "      <td>450.0</td>\n",
       "      <td>4</td>\n",
       "      <td>10.0</td>\n",
       "      <td>10.0</td>\n",
       "      <td>0.0</td>\n",
       "      <td>208.0</td>\n",
       "      <td>1.0</td>\n",
       "      <td>3</td>\n",
       "      <td>7</td>\n",
       "      <td>0.00</td>\n",
       "      <td>1</td>\n",
       "      <td>0</td>\n",
       "      <td>1</td>\n",
       "      <td>0</td>\n",
       "      <td>0</td>\n",
       "      <td>1</td>\n",
       "      <td>0</td>\n",
       "      <td>1</td>\n",
       "      <td>0</td>\n",
       "    </tr>\n",
       "    <tr>\n",
       "      <th>1517</th>\n",
       "      <td>28.0</td>\n",
       "      <td>1</td>\n",
       "      <td>0.0</td>\n",
       "      <td>0.0</td>\n",
       "      <td>0.0</td>\n",
       "      <td>364.0</td>\n",
       "      <td>1.0</td>\n",
       "      <td>1</td>\n",
       "      <td>0</td>\n",
       "      <td>0.00</td>\n",
       "      <td>1</td>\n",
       "      <td>0</td>\n",
       "      <td>0</td>\n",
       "      <td>0</td>\n",
       "      <td>1</td>\n",
       "      <td>1</td>\n",
       "      <td>0</td>\n",
       "      <td>1</td>\n",
       "      <td>0</td>\n",
       "    </tr>\n",
       "    <tr>\n",
       "      <th>21691</th>\n",
       "      <td>48.0</td>\n",
       "      <td>2</td>\n",
       "      <td>8.0</td>\n",
       "      <td>6.0</td>\n",
       "      <td>0.0</td>\n",
       "      <td>143.0</td>\n",
       "      <td>1.0</td>\n",
       "      <td>1</td>\n",
       "      <td>1</td>\n",
       "      <td>0.00</td>\n",
       "      <td>1</td>\n",
       "      <td>0</td>\n",
       "      <td>0</td>\n",
       "      <td>1</td>\n",
       "      <td>0</td>\n",
       "      <td>1</td>\n",
       "      <td>0</td>\n",
       "      <td>1</td>\n",
       "      <td>0</td>\n",
       "    </tr>\n",
       "    <tr>\n",
       "      <th>21706</th>\n",
       "      <td>160.0</td>\n",
       "      <td>2</td>\n",
       "      <td>0.0</td>\n",
       "      <td>0.0</td>\n",
       "      <td>0.0</td>\n",
       "      <td>365.0</td>\n",
       "      <td>1.0</td>\n",
       "      <td>1</td>\n",
       "      <td>0</td>\n",
       "      <td>0.00</td>\n",
       "      <td>1</td>\n",
       "      <td>0</td>\n",
       "      <td>0</td>\n",
       "      <td>1</td>\n",
       "      <td>0</td>\n",
       "      <td>1</td>\n",
       "      <td>0</td>\n",
       "      <td>1</td>\n",
       "      <td>0</td>\n",
       "    </tr>\n",
       "    <tr>\n",
       "      <th>...</th>\n",
       "      <td>...</td>\n",
       "      <td>...</td>\n",
       "      <td>...</td>\n",
       "      <td>...</td>\n",
       "      <td>...</td>\n",
       "      <td>...</td>\n",
       "      <td>...</td>\n",
       "      <td>...</td>\n",
       "      <td>...</td>\n",
       "      <td>...</td>\n",
       "      <td>...</td>\n",
       "      <td>...</td>\n",
       "      <td>...</td>\n",
       "      <td>...</td>\n",
       "      <td>...</td>\n",
       "      <td>...</td>\n",
       "      <td>...</td>\n",
       "      <td>...</td>\n",
       "      <td>...</td>\n",
       "    </tr>\n",
       "    <tr>\n",
       "      <th>21723</th>\n",
       "      <td>59.0</td>\n",
       "      <td>1</td>\n",
       "      <td>7.0</td>\n",
       "      <td>10.0</td>\n",
       "      <td>100.0</td>\n",
       "      <td>202.0</td>\n",
       "      <td>1.0</td>\n",
       "      <td>2</td>\n",
       "      <td>41</td>\n",
       "      <td>1.50</td>\n",
       "      <td>1</td>\n",
       "      <td>0</td>\n",
       "      <td>0</td>\n",
       "      <td>1</td>\n",
       "      <td>0</td>\n",
       "      <td>0</td>\n",
       "      <td>1</td>\n",
       "      <td>0</td>\n",
       "      <td>1</td>\n",
       "    </tr>\n",
       "    <tr>\n",
       "      <th>21724</th>\n",
       "      <td>90.0</td>\n",
       "      <td>1</td>\n",
       "      <td>9.0</td>\n",
       "      <td>9.0</td>\n",
       "      <td>79.0</td>\n",
       "      <td>251.0</td>\n",
       "      <td>1.0</td>\n",
       "      <td>3</td>\n",
       "      <td>17</td>\n",
       "      <td>0.86</td>\n",
       "      <td>1</td>\n",
       "      <td>0</td>\n",
       "      <td>0</td>\n",
       "      <td>1</td>\n",
       "      <td>0</td>\n",
       "      <td>0</td>\n",
       "      <td>1</td>\n",
       "      <td>0</td>\n",
       "      <td>1</td>\n",
       "    </tr>\n",
       "    <tr>\n",
       "      <th>21725</th>\n",
       "      <td>200.0</td>\n",
       "      <td>3</td>\n",
       "      <td>10.0</td>\n",
       "      <td>10.0</td>\n",
       "      <td>0.0</td>\n",
       "      <td>206.0</td>\n",
       "      <td>1.0</td>\n",
       "      <td>2</td>\n",
       "      <td>9</td>\n",
       "      <td>0.78</td>\n",
       "      <td>0</td>\n",
       "      <td>1</td>\n",
       "      <td>1</td>\n",
       "      <td>0</td>\n",
       "      <td>0</td>\n",
       "      <td>0</td>\n",
       "      <td>1</td>\n",
       "      <td>0</td>\n",
       "      <td>1</td>\n",
       "    </tr>\n",
       "    <tr>\n",
       "      <th>21712</th>\n",
       "      <td>235.0</td>\n",
       "      <td>2</td>\n",
       "      <td>10.0</td>\n",
       "      <td>9.0</td>\n",
       "      <td>90.0</td>\n",
       "      <td>104.0</td>\n",
       "      <td>1.0</td>\n",
       "      <td>3</td>\n",
       "      <td>4</td>\n",
       "      <td>2.45</td>\n",
       "      <td>1</td>\n",
       "      <td>0</td>\n",
       "      <td>1</td>\n",
       "      <td>0</td>\n",
       "      <td>0</td>\n",
       "      <td>1</td>\n",
       "      <td>0</td>\n",
       "      <td>0</td>\n",
       "      <td>1</td>\n",
       "    </tr>\n",
       "    <tr>\n",
       "      <th>0</th>\n",
       "      <td>49.0</td>\n",
       "      <td>5</td>\n",
       "      <td>10.0</td>\n",
       "      <td>10.0</td>\n",
       "      <td>100.0</td>\n",
       "      <td>250.0</td>\n",
       "      <td>1.0</td>\n",
       "      <td>1</td>\n",
       "      <td>51</td>\n",
       "      <td>4.45</td>\n",
       "      <td>0</td>\n",
       "      <td>1</td>\n",
       "      <td>0</td>\n",
       "      <td>1</td>\n",
       "      <td>0</td>\n",
       "      <td>0</td>\n",
       "      <td>1</td>\n",
       "      <td>0</td>\n",
       "      <td>1</td>\n",
       "    </tr>\n",
       "  </tbody>\n",
       "</table>\n",
       "<p>77201 rows × 19 columns</p>\n",
       "</div>"
      ],
      "text/plain": [
       "       price  accommodates  review_scores_cleanliness  review_scores_location  \\\n",
       "19444  200.0             3                       10.0                    10.0   \n",
       "1520   450.0             4                       10.0                    10.0   \n",
       "1517    28.0             1                        0.0                     0.0   \n",
       "21691   48.0             2                        8.0                     6.0   \n",
       "21706  160.0             2                        0.0                     0.0   \n",
       "...      ...           ...                        ...                     ...   \n",
       "21723   59.0             1                        7.0                    10.0   \n",
       "21724   90.0             1                        9.0                     9.0   \n",
       "21725  200.0             3                       10.0                    10.0   \n",
       "21712  235.0             2                       10.0                     9.0   \n",
       "0       49.0             5                       10.0                    10.0   \n",
       "\n",
       "       host_response_rate  availability_365  calculated_host_listings_count  \\\n",
       "19444                 0.0             243.0                             1.0   \n",
       "1520                  0.0             208.0                             1.0   \n",
       "1517                  0.0             364.0                             1.0   \n",
       "21691                 0.0             143.0                             1.0   \n",
       "21706                 0.0             365.0                             1.0   \n",
       "...                   ...               ...                             ...   \n",
       "21723               100.0             202.0                             1.0   \n",
       "21724                79.0             251.0                             1.0   \n",
       "21725                 0.0             206.0                             1.0   \n",
       "21712                90.0             104.0                             1.0   \n",
       "0                   100.0             250.0                             1.0   \n",
       "\n",
       "       minimum_nights  number_of_reviews  reviews_per_month  \\\n",
       "19444               7                  4               0.00   \n",
       "1520                3                  7               0.00   \n",
       "1517                1                  0               0.00   \n",
       "21691               1                  1               0.00   \n",
       "21706               1                  0               0.00   \n",
       "...               ...                ...                ...   \n",
       "21723               2                 41               1.50   \n",
       "21724               3                 17               0.86   \n",
       "21725               2                  9               0.78   \n",
       "21712               3                  4               2.45   \n",
       "0                   1                 51               4.45   \n",
       "\n",
       "       host_is_superhost_f  host_is_superhost_t  room_type_Entire home/apt  \\\n",
       "19444                    1                    0                          1   \n",
       "1520                     1                    0                          1   \n",
       "1517                     1                    0                          0   \n",
       "21691                    1                    0                          0   \n",
       "21706                    1                    0                          0   \n",
       "...                    ...                  ...                        ...   \n",
       "21723                    1                    0                          0   \n",
       "21724                    1                    0                          0   \n",
       "21725                    0                    1                          1   \n",
       "21712                    1                    0                          1   \n",
       "0                        0                    1                          0   \n",
       "\n",
       "       room_type_Private room  room_type_Shared room  \\\n",
       "19444                       0                      0   \n",
       "1520                        0                      0   \n",
       "1517                        0                      1   \n",
       "21691                       1                      0   \n",
       "21706                       1                      0   \n",
       "...                       ...                    ...   \n",
       "21723                       1                      0   \n",
       "21724                       1                      0   \n",
       "21725                       0                      0   \n",
       "21712                       0                      0   \n",
       "0                           1                      0   \n",
       "\n",
       "       host_identity_verified_f  host_identity_verified_t  \\\n",
       "19444                         1                         0   \n",
       "1520                          1                         0   \n",
       "1517                          1                         0   \n",
       "21691                         1                         0   \n",
       "21706                         1                         0   \n",
       "...                         ...                       ...   \n",
       "21723                         0                         1   \n",
       "21724                         0                         1   \n",
       "21725                         0                         1   \n",
       "21712                         1                         0   \n",
       "0                             0                         1   \n",
       "\n",
       "       host_has_profile_pic_f  host_has_profile_pic_t  \n",
       "19444                       1                       0  \n",
       "1520                        1                       0  \n",
       "1517                        1                       0  \n",
       "21691                       1                       0  \n",
       "21706                       1                       0  \n",
       "...                       ...                     ...  \n",
       "21723                       0                       1  \n",
       "21724                       0                       1  \n",
       "21725                       0                       1  \n",
       "21712                       0                       1  \n",
       "0                           0                       1  \n",
       "\n",
       "[77201 rows x 19 columns]"
      ]
     },
     "execution_count": 76,
     "metadata": {},
     "output_type": "execute_result"
    }
   ],
   "source": [
    "pd.get_dummies(features.drop(drop_columns, axis=1))"
   ]
  },
  {
   "cell_type": "code",
   "execution_count": 77,
   "metadata": {},
   "outputs": [
    {
     "data": {
      "text/plain": [
       "array([[200.,   3.,  10., ...,   0.,   1.,   0.],\n",
       "       [450.,   4.,  10., ...,   0.,   1.,   0.],\n",
       "       [ 28.,   1.,   0., ...,   0.,   1.,   0.],\n",
       "       ...,\n",
       "       [200.,   3.,  10., ...,   1.,   0.,   1.],\n",
       "       [235.,   2.,  10., ...,   0.,   0.,   1.],\n",
       "       [ 49.,   5.,  10., ...,   1.,   0.,   1.]])"
      ]
     },
     "execution_count": 77,
     "metadata": {},
     "output_type": "execute_result"
    }
   ],
   "source": [
    "feature_matrix = pd.get_dummies(features.drop(drop_columns, axis=1)).values\n",
    "feature_matrix"
   ]
  },
  {
   "cell_type": "code",
   "execution_count": 78,
   "metadata": {},
   "outputs": [],
   "source": [
    "X_train, X_test, y_train, y_test = train_test_split(feature_matrix, labels, test_size=0.3)"
   ]
  },
  {
   "cell_type": "code",
   "execution_count": 79,
   "metadata": {},
   "outputs": [
    {
     "name": "stdout",
     "output_type": "stream",
     "text": [
      "54040\n",
      "23161\n"
     ]
    }
   ],
   "source": [
    "print(len(X_train))\n",
    "print(len(X_test))"
   ]
  },
  {
   "cell_type": "code",
   "execution_count": 91,
   "metadata": {},
   "outputs": [
    {
     "data": {
      "text/plain": [
       "LogisticRegression(C=1.0, class_weight=None, dual=False, fit_intercept=True,\n",
       "                   intercept_scaling=1, l1_ratio=None, max_iter=100,\n",
       "                   multi_class='auto', n_jobs=None, penalty='l2',\n",
       "                   random_state=None, solver='liblinear', tol=0.0001, verbose=0,\n",
       "                   warm_start=False)"
      ]
     },
     "execution_count": 91,
     "metadata": {},
     "output_type": "execute_result"
    }
   ],
   "source": [
    "# create model (estimator) object\n",
    "model = LogisticRegression(solver='liblinear')\n",
    "model"
   ]
  },
  {
   "cell_type": "code",
   "execution_count": 92,
   "metadata": {},
   "outputs": [
    {
     "data": {
      "text/plain": [
       "{'C': 1.0,\n",
       " 'class_weight': None,\n",
       " 'dual': False,\n",
       " 'fit_intercept': True,\n",
       " 'intercept_scaling': 1,\n",
       " 'l1_ratio': None,\n",
       " 'max_iter': 100,\n",
       " 'multi_class': 'auto',\n",
       " 'n_jobs': None,\n",
       " 'penalty': 'l2',\n",
       " 'random_state': None,\n",
       " 'solver': 'liblinear',\n",
       " 'tol': 0.0001,\n",
       " 'verbose': 0,\n",
       " 'warm_start': False}"
      ]
     },
     "execution_count": 92,
     "metadata": {},
     "output_type": "execute_result"
    }
   ],
   "source": [
    "model.get_params()"
   ]
  },
  {
   "cell_type": "code",
   "execution_count": 93,
   "metadata": {},
   "outputs": [
    {
     "data": {
      "text/plain": [
       "LogisticRegression(C=1.0, class_weight=None, dual=False, fit_intercept=True,\n",
       "                   intercept_scaling=1, l1_ratio=None, max_iter=100,\n",
       "                   multi_class='auto', n_jobs=None, penalty='l2',\n",
       "                   random_state=None, solver='liblinear', tol=0.0001, verbose=0,\n",
       "                   warm_start=False)"
      ]
     },
     "execution_count": 93,
     "metadata": {},
     "output_type": "execute_result"
    }
   ],
   "source": [
    "# fit model to training data\n",
    "model.fit(X_train, y_train)"
   ]
  },
  {
   "cell_type": "code",
   "execution_count": 94,
   "metadata": {},
   "outputs": [
    {
     "data": {
      "text/plain": [
       "array([[-1.36e-04, -4.06e-02, -1.27e-01,  5.54e-02,  2.41e-03,  3.66e-03,\n",
       "        -3.02e-02, -2.10e-03, -1.86e-02,  9.25e-02,  6.76e-01,  5.04e-02,\n",
       "         5.04e-01,  4.71e-02,  1.76e-01,  3.71e-01,  3.56e-01,  3.03e+00,\n",
       "        -2.31e+00]])"
      ]
     },
     "execution_count": 94,
     "metadata": {},
     "output_type": "execute_result"
    }
   ],
   "source": [
    "model.coef_"
   ]
  },
  {
   "cell_type": "code",
   "execution_count": 95,
   "metadata": {},
   "outputs": [
    {
     "data": {
      "text/plain": [
       "array([ True,  True, False, ...,  True, False,  True])"
      ]
     },
     "execution_count": 95,
     "metadata": {},
     "output_type": "execute_result"
    }
   ],
   "source": [
    "# make predictions\n",
    "predictions = model.predict(X_test)\n",
    "predictions"
   ]
  },
  {
   "cell_type": "code",
   "execution_count": 96,
   "metadata": {},
   "outputs": [
    {
     "data": {
      "text/plain": [
       "array([[0.  , 1.  ],\n",
       "       [0.01, 0.99],\n",
       "       [0.8 , 0.2 ],\n",
       "       ...,\n",
       "       [0.29, 0.71],\n",
       "       [0.58, 0.42],\n",
       "       [0.32, 0.68]])"
      ]
     },
     "execution_count": 96,
     "metadata": {},
     "output_type": "execute_result"
    }
   ],
   "source": [
    "model.predict_proba(X_test)"
   ]
  },
  {
   "cell_type": "code",
   "execution_count": 97,
   "metadata": {},
   "outputs": [
    {
     "data": {
      "text/plain": [
       "0.7222917836017443"
      ]
     },
     "execution_count": 97,
     "metadata": {},
     "output_type": "execute_result"
    }
   ],
   "source": [
    "# evaluate model\n",
    "accuracy = (predictions == y_test).sum() / len(y_test)\n",
    "accuracy"
   ]
  },
  {
   "cell_type": "code",
   "execution_count": 98,
   "metadata": {},
   "outputs": [
    {
     "data": {
      "text/plain": [
       "0.7222917836017443"
      ]
     },
     "execution_count": 98,
     "metadata": {},
     "output_type": "execute_result"
    }
   ],
   "source": [
    "model.score(X_test, y_test)"
   ]
  },
  {
   "cell_type": "code",
   "execution_count": 99,
   "metadata": {},
   "outputs": [
    {
     "data": {
      "text/plain": [
       "True     44626\n",
       "False    32575\n",
       "Name: churn, dtype: int64"
      ]
     },
     "execution_count": 99,
     "metadata": {},
     "output_type": "execute_result"
    }
   ],
   "source": [
    "df.churn.value_counts()"
   ]
  },
  {
   "cell_type": "markdown",
   "metadata": {},
   "source": [
    "## Class Imbalance"
   ]
  },
  {
   "cell_type": "code",
   "execution_count": 100,
   "metadata": {},
   "outputs": [],
   "source": [
    "down_sample = df[df.churn == False].sample(32575)\n",
    "sub_sample = pd.concat([down_sample, df[df.churn == True].sample(32575)])"
   ]
  },
  {
   "cell_type": "code",
   "execution_count": 101,
   "metadata": {},
   "outputs": [
    {
     "data": {
      "text/plain": [
       "True     32575\n",
       "False    32575\n",
       "Name: churn, dtype: int64"
      ]
     },
     "execution_count": 101,
     "metadata": {},
     "output_type": "execute_result"
    }
   ],
   "source": [
    "sub_sample.churn.value_counts()"
   ]
  },
  {
   "cell_type": "code",
   "execution_count": 102,
   "metadata": {},
   "outputs": [],
   "source": [
    "labels = sub_sample.churn\n",
    "drop_columns = ['host_response_time', \n",
    "                'calendar_updated',\n",
    "                'days_since_last_review', 'churn']\n",
    "features = sub_sample.drop(drop_columns, axis=1)\n",
    "feature_matrix = pd.get_dummies(features).values"
   ]
  },
  {
   "cell_type": "code",
   "execution_count": 103,
   "metadata": {},
   "outputs": [],
   "source": [
    "X_train, X_test, y_train, y_test = train_test_split(feature_matrix, labels, test_size=0.3)"
   ]
  },
  {
   "cell_type": "code",
   "execution_count": 104,
   "metadata": {},
   "outputs": [
    {
     "name": "stdout",
     "output_type": "stream",
     "text": [
      "0.7290867229470452\n"
     ]
    }
   ],
   "source": [
    "# create model (estimator) object\n",
    "clf = LogisticRegression(penalty='l1', solver='liblinear')\n",
    "\n",
    "# fit model to training data\n",
    "clf.fit(X_train, y_train)\n",
    "\n",
    "# make predictions\n",
    "predictions = clf.predict(X_test)\n",
    "\n",
    "# evaluate model\n",
    "accuracy = (predictions == y_test).sum() / len(y_test)\n",
    "print(accuracy)"
   ]
  },
  {
   "cell_type": "code",
   "execution_count": 105,
   "metadata": {},
   "outputs": [
    {
     "data": {
      "text/plain": [
       "0.7290867229470452"
      ]
     },
     "execution_count": 105,
     "metadata": {},
     "output_type": "execute_result"
    }
   ],
   "source": [
    "clf.score(X_test, y_test)"
   ]
  },
  {
   "cell_type": "code",
   "execution_count": 106,
   "metadata": {},
   "outputs": [
    {
     "name": "stdout",
     "output_type": "stream",
     "text": [
      "Training took 25 iterations, since this is less than 100 it has converged\n"
     ]
    }
   ],
   "source": [
    "print(f\"Training took {clf.n_iter_[0]} iterations, since this is less than {clf.max_iter} it has converged\")"
   ]
  },
  {
   "cell_type": "markdown",
   "metadata": {},
   "source": [
    "## k-fold Cross Validation"
   ]
  },
  {
   "cell_type": "code",
   "execution_count": 107,
   "metadata": {},
   "outputs": [],
   "source": [
    "scores = cross_val_score(clf, X_train, y_train, cv=5)"
   ]
  },
  {
   "cell_type": "code",
   "execution_count": 108,
   "metadata": {},
   "outputs": [],
   "source": [
    "cross_val_score??"
   ]
  },
  {
   "cell_type": "code",
   "execution_count": 109,
   "metadata": {},
   "outputs": [
    {
     "data": {
      "text/plain": [
       "array([0.72, 0.72, 0.72, 0.72, 0.72, 0.72, 0.7 , 0.72, 0.72, 0.72])"
      ]
     },
     "execution_count": 109,
     "metadata": {},
     "output_type": "execute_result"
    }
   ],
   "source": [
    "scores"
   ]
  },
  {
   "cell_type": "code",
   "execution_count": 110,
   "metadata": {},
   "outputs": [
    {
     "data": {
      "text/plain": [
       "0.7180132329013721"
      ]
     },
     "execution_count": 110,
     "metadata": {},
     "output_type": "execute_result"
    }
   ],
   "source": [
    "scores.mean()"
   ]
  },
  {
   "cell_type": "code",
   "execution_count": 111,
   "metadata": {},
   "outputs": [
    {
     "data": {
      "text/plain": [
       "2.470184816735756e-05"
      ]
     },
     "execution_count": 111,
     "metadata": {},
     "output_type": "execute_result"
    }
   ],
   "source": [
    "scores.var()"
   ]
  },
  {
   "cell_type": "code",
   "execution_count": 112,
   "metadata": {},
   "outputs": [
    {
     "data": {
      "text/plain": [
       "0.64"
      ]
     },
     "execution_count": 112,
     "metadata": {},
     "output_type": "execute_result"
    }
   ],
   "source": [
    "np.array([0.2, .2, .9, .8, .9, .5, .8, .7, .7, .7]).mean()"
   ]
  },
  {
   "cell_type": "code",
   "execution_count": 113,
   "metadata": {},
   "outputs": [
    {
     "data": {
      "text/plain": [
       "0.06040000000000001"
      ]
     },
     "execution_count": 113,
     "metadata": {},
     "output_type": "execute_result"
    }
   ],
   "source": [
    "np.array([0.2, .2, .9, .8, .9, .5, .8, .7, .7, .7]).var()"
   ]
  },
  {
   "cell_type": "code",
   "execution_count": 114,
   "metadata": {},
   "outputs": [
    {
     "data": {
      "text/plain": [
       "0.7290867229470452"
      ]
     },
     "execution_count": 114,
     "metadata": {},
     "output_type": "execute_result"
    }
   ],
   "source": [
    "clf.score(X_test, y_test)"
   ]
  },
  {
   "cell_type": "code",
   "execution_count": 115,
   "metadata": {},
   "outputs": [
    {
     "data": {
      "text/plain": [
       "0.6742900997697621"
      ]
     },
     "execution_count": 115,
     "metadata": {},
     "output_type": "execute_result"
    }
   ],
   "source": [
    "model = KNeighborsClassifier()\n",
    "clf = model.fit(X_train, y_train)\n",
    "clf.score(X_test, y_test)"
   ]
  },
  {
   "cell_type": "code",
   "execution_count": 116,
   "metadata": {},
   "outputs": [
    {
     "data": {
      "text/plain": [
       "0.7646456894346381"
      ]
     },
     "execution_count": 116,
     "metadata": {},
     "output_type": "execute_result"
    }
   ],
   "source": [
    "from sklearn.ensemble import RandomForestClassifier\n",
    "\n",
    "model = RandomForestClassifier()\n",
    "clf = model.fit(X_train, y_train)\n",
    "clf.score(X_test, y_test)"
   ]
  },
  {
   "cell_type": "code",
   "execution_count": 117,
   "metadata": {},
   "outputs": [
    {
     "data": {
      "text/plain": [
       "array([0.13, 0.05, 0.03, 0.03, 0.08, 0.2 , 0.04, 0.05, 0.07, 0.1 , 0.  ,\n",
       "       0.  , 0.01, 0.01, 0.  , 0.02, 0.02, 0.08, 0.08])"
      ]
     },
     "execution_count": 117,
     "metadata": {},
     "output_type": "execute_result"
    }
   ],
   "source": [
    "clf.feature_importances_"
   ]
  },
  {
   "cell_type": "code",
   "execution_count": 118,
   "metadata": {},
   "outputs": [],
   "source": [
    "def plot_confusion_matrix(cm, title='Confusion matrix', cmap=plt.cm.Blues):\n",
    "    plt.imshow(cm, interpolation='nearest', cmap=cmap)\n",
    "    plt.title(title)\n",
    "    plt.colorbar()\n",
    "\n",
    "    plt.tight_layout()\n",
    "    plt.ylabel('True label')\n",
    "    plt.xlabel('Predicted label')"
   ]
  },
  {
   "cell_type": "code",
   "execution_count": 119,
   "metadata": {},
   "outputs": [
    {
     "name": "stdout",
     "output_type": "stream",
     "text": [
      "Confusion matrix, without normalization\n",
      "[[8043 1856]\n",
      " [2728 6918]]\n"
     ]
    },
    {
     "data": {
      "image/png": "[encoded data removed]",
      "text/plain": [
       "<Figure size 360x360 with 2 Axes>"
      ]
     },
     "metadata": {
      "needs_background": "light"
     },
     "output_type": "display_data"
    }
   ],
   "source": [
    "model = RandomForestClassifier()\n",
    "clf = model.fit(X_train, y_train)\n",
    "clf.score(X_test, y_test)\n",
    "\n",
    "y_pred = clf.predict(X_test)\n",
    "y_score = clf.predict_proba(X_test)\n",
    "\n",
    "# Compute confusion matrix\n",
    "cm = confusion_matrix(y_test, y_pred)\n",
    "np.set_printoptions(precision=2)\n",
    "print('Confusion matrix, without normalization')\n",
    "print(cm)\n",
    "plt.figure(figsize=(5, 5))\n",
    "plot_confusion_matrix(cm)"
   ]
  },
  {
   "cell_type": "code",
   "execution_count": 120,
   "metadata": {},
   "outputs": [
    {
     "name": "stdout",
     "output_type": "stream",
     "text": [
      "Confusion matrix, without normalization\n",
      "[[6722 3177]\n",
      " [3189 6457]]\n"
     ]
    },
    {
     "data": {
      "image/png": "[encoded data removed]",
      "text/plain": [
       "<Figure size 360x360 with 2 Axes>"
      ]
     },
     "metadata": {
      "needs_background": "light"
     },
     "output_type": "display_data"
    }
   ],
   "source": [
    "model = KNeighborsClassifier()\n",
    "clf = model.fit(X_train, y_train)\n",
    "clf.score(X_test, y_test)\n",
    "\n",
    "y_pred = clf.predict(X_test)\n",
    "y_score = clf.predict_proba(X_test)\n",
    "\n",
    "# Compute confusion matrix\n",
    "cm = confusion_matrix(y_test, y_pred)\n",
    "np.set_printoptions(precision=2)\n",
    "print('Confusion matrix, without normalization')\n",
    "print(cm)\n",
    "plt.figure(figsize=(5, 5))\n",
    "plot_confusion_matrix(cm)"
   ]
  },
  {
   "cell_type": "code",
   "execution_count": 121,
   "metadata": {},
   "outputs": [
    {
     "data": {
      "text/plain": [
       "array([False,  True, False, ...,  True,  True,  True])"
      ]
     },
     "execution_count": 121,
     "metadata": {},
     "output_type": "execute_result"
    }
   ],
   "source": [
    "y_pred"
   ]
  },
  {
   "cell_type": "code",
   "execution_count": 122,
   "metadata": {},
   "outputs": [
    {
     "data": {
      "text/plain": [
       "array([[0.6, 0.4],\n",
       "       [0.2, 0.8],\n",
       "       [0.8, 0.2],\n",
       "       ...,\n",
       "       [0.2, 0.8],\n",
       "       [0.2, 0.8],\n",
       "       [0.2, 0.8]])"
      ]
     },
     "execution_count": 122,
     "metadata": {},
     "output_type": "execute_result"
    }
   ],
   "source": [
    "y_score"
   ]
  },
  {
   "cell_type": "code",
   "execution_count": 123,
   "metadata": {},
   "outputs": [
    {
     "name": "stdout",
     "output_type": "stream",
     "text": [
      "              precision    recall  f1-score   support\n",
      "\n",
      "       False       0.68      0.68      0.68      9899\n",
      "        True       0.67      0.67      0.67      9646\n",
      "\n",
      "    accuracy                           0.67     19545\n",
      "   macro avg       0.67      0.67      0.67     19545\n",
      "weighted avg       0.67      0.67      0.67     19545\n",
      "\n"
     ]
    }
   ],
   "source": [
    "print(classification_report(y_test, y_pred))"
   ]
  },
  {
   "cell_type": "code",
   "execution_count": 124,
   "metadata": {},
   "outputs": [
    {
     "data": {
      "image/png": "[encoded data removed]",
      "text/plain": [
       "<Figure size 432x432 with 1 Axes>"
      ]
     },
     "metadata": {
      "needs_background": "light"
     },
     "output_type": "display_data"
    }
   ],
   "source": [
    "model = KNeighborsClassifier()\n",
    "clf = model.fit(X_train, y_train)\n",
    "clf.score(X_test, y_test)\n",
    "\n",
    "y_pred = clf.predict(X_test)\n",
    "y_score = clf.predict_proba(X_test)\n",
    "\n",
    "\n",
    "fpr, tpr, thresholds = roc_curve(y_test, y_score[:, 1])\n",
    "\n",
    "plt.figure(figsize=(6, 6))\n",
    "plt.plot(fpr, tpr, label='ROC curve (area = %0.2f)' % auc(fpr, tpr))\n",
    "plt.plot([0, 1], [0, 1], 'k--')\n",
    "plt.xlim([0.0, 1.0])\n",
    "plt.ylim([0.0, 1.05])\n",
    "plt.xlabel('False Positive Rate')\n",
    "plt.ylabel('True Positive Rate')\n",
    "plt.title('ROC plot for Logistic Regression for Airbnb Churn')\n",
    "plt.legend(loc=\"lower right\")\n",
    "plt.show()"
   ]
  },
  {
   "cell_type": "code",
   "execution_count": 125,
   "metadata": {},
   "outputs": [
    {
     "data": {
      "image/png": "[encoded data removed]",
      "text/plain": [
       "<Figure size 432x432 with 1 Axes>"
      ]
     },
     "metadata": {
      "needs_background": "light"
     },
     "output_type": "display_data"
    }
   ],
   "source": [
    "model = RandomForestClassifier()\n",
    "clf = model.fit(X_train, y_train)\n",
    "clf.score(X_test, y_test)\n",
    "\n",
    "y_pred = clf.predict(X_test)\n",
    "y_score = clf.predict_proba(X_test)\n",
    "\n",
    "\n",
    "fpr, tpr, thresholds = roc_curve(y_test, y_score[:, 1])\n",
    "\n",
    "plt.figure(figsize=(6, 6))\n",
    "plt.plot(fpr, tpr, label='ROC curve (area = %0.2f)' % auc(fpr, tpr))\n",
    "plt.plot([0, 1], [0, 1], 'k--')\n",
    "plt.xlim([0.0, 1.0])\n",
    "plt.ylim([0.0, 1.05])\n",
    "plt.xlabel('False Positive Rate')\n",
    "plt.ylabel('True Positive Rate')\n",
    "plt.title('ROC plot for Logistic Regression for Airbnb Churn')\n",
    "plt.legend(loc=\"lower right\")\n",
    "plt.show()"
   ]
  },
  {
   "cell_type": "code",
   "execution_count": 126,
   "metadata": {},
   "outputs": [],
   "source": [
    "def plot_roc(y_test, y_score):\n",
    "    fpr, tpr, thresholds = roc_curve(y_test, y_score[:, 1])\n",
    "\n",
    "    plt.figure(figsize=(10,10))\n",
    "    plt.plot(fpr, tpr, label='ROC curve (area = %0.2f)' % auc(fpr, tpr))\n",
    "    plt.plot([0, 1], [0, 1], 'k--')\n",
    "    plt.xlim([0.0, 1.0])\n",
    "    plt.ylim([0.0, 1.05])\n",
    "    plt.xlabel('False Positive Rate')\n",
    "    plt.ylabel('True Positive Rate')\n",
    "    plt.title('ROC plot for Logistic Regression for Airbnb Churn')\n",
    "    plt.legend(loc=\"lower right\")\n",
    "    plt.show()"
   ]
  },
  {
   "cell_type": "code",
   "execution_count": 127,
   "metadata": {},
   "outputs": [],
   "source": [
    "scores = cross_validate(clf, X_train, y_train, return_train_score=True, cv=5)"
   ]
  },
  {
   "cell_type": "code",
   "execution_count": 128,
   "metadata": {},
   "outputs": [
    {
     "data": {
      "text/plain": [
       "{'fit_time': array([3.63, 3.47, 3.88, 4.36, 3.46]),\n",
       " 'score_time': array([0.18, 0.18, 0.23, 0.22, 0.18]),\n",
       " 'test_score': array([0.75, 0.76, 0.76, 0.75, 0.75]),\n",
       " 'train_score': array([1., 1., 1., 1., 1.])}"
      ]
     },
     "execution_count": 128,
     "metadata": {},
     "output_type": "execute_result"
    }
   ],
   "source": [
    "scores"
   ]
  },
  {
   "cell_type": "code",
   "execution_count": null,
   "metadata": {},
   "outputs": [],
   "source": []
  },
  {
   "cell_type": "code",
   "execution_count": null,
   "metadata": {},
   "outputs": [],
   "source": []
  }
 ],
 "metadata": {
  "kernelspec": {
   "display_name": "Python 3",
   "language": "python",
   "name": "python3"
  },
  "language_info": {
   "codemirror_mode": {
    "name": "ipython",
    "version": 3
   },
   "file_extension": ".py",
   "mimetype": "text/x-python",
   "name": "python",
   "nbconvert_exporter": "python",
   "pygments_lexer": "ipython3",
   "version": "3.7.6"
  }
 },
 "nbformat": 4,
 "nbformat_minor": 2
}
