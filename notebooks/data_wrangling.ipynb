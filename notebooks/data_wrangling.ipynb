{
 "cells": [
  {
   "cell_type": "code",
   "execution_count": 1,
   "metadata": {},
   "outputs": [
    {
     "name": "stdout",
     "output_type": "stream",
     "text": [
      "Populating the interactive namespace from numpy and matplotlib\n"
     ]
    }
   ],
   "source": [
    "import pandas as pd\n",
    "import seaborn as sns\n",
    "import matplotlib.pyplot as plt\n",
    "\n",
    "%pylab inline"
   ]
  },
  {
   "cell_type": "code",
   "execution_count": 2,
   "metadata": {},
   "outputs": [],
   "source": [
    "df = pd.read_csv('data/reviews_full.csv')"
   ]
  },
  {
   "cell_type": "code",
   "execution_count": 3,
   "metadata": {},
   "outputs": [
    {
     "data": {
      "text/html": [
       "<div>\n",
       "<style scoped>\n",
       "    .dataframe tbody tr th:only-of-type {\n",
       "        vertical-align: middle;\n",
       "    }\n",
       "\n",
       "    .dataframe tbody tr th {\n",
       "        vertical-align: top;\n",
       "    }\n",
       "\n",
       "    .dataframe thead th {\n",
       "        text-align: right;\n",
       "    }\n",
       "</style>\n",
       "<table border=\"1\" class=\"dataframe\">\n",
       "  <thead>\n",
       "    <tr style=\"text-align: right;\">\n",
       "      <th></th>\n",
       "      <th>listing_id</th>\n",
       "      <th>id</th>\n",
       "      <th>date</th>\n",
       "      <th>reviewer_id</th>\n",
       "      <th>reviewer_name</th>\n",
       "      <th>comments</th>\n",
       "    </tr>\n",
       "  </thead>\n",
       "  <tbody>\n",
       "    <tr>\n",
       "      <th>0</th>\n",
       "      <td>1994427</td>\n",
       "      <td>10612780</td>\n",
       "      <td>2014-02-27</td>\n",
       "      <td>4918890</td>\n",
       "      <td>Katie</td>\n",
       "      <td>Great host. Provided special gift basket upon ...</td>\n",
       "    </tr>\n",
       "    <tr>\n",
       "      <th>1</th>\n",
       "      <td>1994427</td>\n",
       "      <td>49925683</td>\n",
       "      <td>2015-10-07</td>\n",
       "      <td>44613424</td>\n",
       "      <td>Steven</td>\n",
       "      <td>Great host. Met me at apartment. Place was cle...</td>\n",
       "    </tr>\n",
       "    <tr>\n",
       "      <th>2</th>\n",
       "      <td>1994427</td>\n",
       "      <td>50537634</td>\n",
       "      <td>2015-10-12</td>\n",
       "      <td>7616696</td>\n",
       "      <td>Marsilius</td>\n",
       "      <td>Syeda hosted my parents for four days during t...</td>\n",
       "    </tr>\n",
       "    <tr>\n",
       "      <th>3</th>\n",
       "      <td>1994427</td>\n",
       "      <td>51077613</td>\n",
       "      <td>2015-10-17</td>\n",
       "      <td>16703590</td>\n",
       "      <td>Robert</td>\n",
       "      <td>I had a great experience at Syeda's Airbnb! It...</td>\n",
       "    </tr>\n",
       "    <tr>\n",
       "      <th>4</th>\n",
       "      <td>1994427</td>\n",
       "      <td>52109034</td>\n",
       "      <td>2015-10-26</td>\n",
       "      <td>6183409</td>\n",
       "      <td>Steve</td>\n",
       "      <td>Great location!  Warm, welcoming host.  This w...</td>\n",
       "    </tr>\n",
       "  </tbody>\n",
       "</table>\n",
       "</div>"
      ],
      "text/plain": [
       "   listing_id        id        date  reviewer_id reviewer_name  \\\n",
       "0     1994427  10612780  2014-02-27      4918890         Katie   \n",
       "1     1994427  49925683  2015-10-07     44613424        Steven   \n",
       "2     1994427  50537634  2015-10-12      7616696     Marsilius   \n",
       "3     1994427  51077613  2015-10-17     16703590        Robert   \n",
       "4     1994427  52109034  2015-10-26      6183409         Steve   \n",
       "\n",
       "                                            comments  \n",
       "0  Great host. Provided special gift basket upon ...  \n",
       "1  Great host. Met me at apartment. Place was cle...  \n",
       "2  Syeda hosted my parents for four days during t...  \n",
       "3  I had a great experience at Syeda's Airbnb! It...  \n",
       "4  Great location!  Warm, welcoming host.  This w...  "
      ]
     },
     "execution_count": 3,
     "metadata": {},
     "output_type": "execute_result"
    }
   ],
   "source": [
    "df.head()"
   ]
  },
  {
   "cell_type": "markdown",
   "metadata": {},
   "source": [
    "## Preprocess Data to Label Churn listings"
   ]
  },
  {
   "cell_type": "code",
   "execution_count": 4,
   "metadata": {},
   "outputs": [
    {
     "name": "stderr",
     "output_type": "stream",
     "text": [
      "/Users/jonathandinu/anaconda3/envs/debugging-data/lib/python3.7/site-packages/IPython/core/interactiveshell.py:3049: DtypeWarning: Columns (85) have mixed types. Specify dtype option on import or set low_memory=False.\n",
      "  interactivity=interactivity, compiler=compiler, result=result)\n",
      "/Users/jonathandinu/anaconda3/envs/debugging-data/lib/python3.7/site-packages/IPython/core/interactiveshell.py:3049: DtypeWarning: Columns (40) have mixed types. Specify dtype option on import or set low_memory=False.\n",
      "  interactivity=interactivity, compiler=compiler, result=result)\n",
      "/Users/jonathandinu/anaconda3/envs/debugging-data/lib/python3.7/site-packages/IPython/core/interactiveshell.py:3049: DtypeWarning: Columns (40,85) have mixed types. Specify dtype option on import or set low_memory=False.\n",
      "  interactivity=interactivity, compiler=compiler, result=result)\n",
      "/Users/jonathandinu/anaconda3/envs/debugging-data/lib/python3.7/site-packages/IPython/core/interactiveshell.py:3049: DtypeWarning: Columns (26) have mixed types. Specify dtype option on import or set low_memory=False.\n",
      "  interactivity=interactivity, compiler=compiler, result=result)\n",
      "/Users/jonathandinu/anaconda3/envs/debugging-data/lib/python3.7/site-packages/IPython/core/interactiveshell.py:3049: DtypeWarning: Columns (26,65) have mixed types. Specify dtype option on import or set low_memory=False.\n",
      "  interactivity=interactivity, compiler=compiler, result=result)\n"
     ]
    }
   ],
   "source": [
    "import os\n",
    "\n",
    "base = 'data/historic_airbnb/nyc/'\n",
    "dataframes = []\n",
    "\n",
    "for filename in os.listdir(base):\n",
    "    dataframes.append(pd.read_csv(base + filename))"
   ]
  },
  {
   "cell_type": "code",
   "execution_count": 5,
   "metadata": {},
   "outputs": [
    {
     "name": "stderr",
     "output_type": "stream",
     "text": [
      "/Users/jonathandinu/anaconda3/envs/debugging-data/lib/python3.7/site-packages/ipykernel_launcher.py:1: FutureWarning: Sorting because non-concatenation axis is not aligned. A future version\n",
      "of pandas will change to not sort by default.\n",
      "\n",
      "To accept the future behavior, pass 'sort=False'.\n",
      "\n",
      "To retain the current behavior and silence the warning, pass 'sort=True'.\n",
      "\n",
      "  \"\"\"Entry point for launching an IPython kernel.\n"
     ]
    },
    {
     "data": {
      "text/plain": [
       "464565"
      ]
     },
     "execution_count": 5,
     "metadata": {},
     "output_type": "execute_result"
    }
   ],
   "source": [
    "joined = pd.concat(dataframes)\n",
    "len(joined)"
   ]
  },
  {
   "cell_type": "code",
   "execution_count": 6,
   "metadata": {},
   "outputs": [
    {
     "data": {
      "text/plain": [
       "464565"
      ]
     },
     "execution_count": 6,
     "metadata": {},
     "output_type": "execute_result"
    }
   ],
   "source": [
    "sum([len(df) for df in dataframes ])"
   ]
  },
  {
   "cell_type": "code",
   "execution_count": 7,
   "metadata": {},
   "outputs": [
    {
     "data": {
      "text/plain": [
       "1332570     15\n",
       "3847681     15\n",
       "2120677     15\n",
       "2165878     15\n",
       "3767267     15\n",
       "41944       15\n",
       "2683858     15\n",
       "2057403     15\n",
       "4613154     15\n",
       "4586355     15\n",
       "4000621     15\n",
       "4830561     15\n",
       "2495893     15\n",
       "2471393     15\n",
       "1305265     15\n",
       "1934765     15\n",
       "3567258     15\n",
       "238746      15\n",
       "134934      15\n",
       "784169      15\n",
       "4294189     15\n",
       "75635       15\n",
       "817113      15\n",
       "366565      15\n",
       "4438459     15\n",
       "1806378     15\n",
       "419281      15\n",
       "4227144     15\n",
       "4031463     15\n",
       "721719      15\n",
       "            ..\n",
       "5425500      1\n",
       "76532        1\n",
       "12702443     1\n",
       "9370000      1\n",
       "7801262      1\n",
       "4776653      1\n",
       "8141256      1\n",
       "3359417      1\n",
       "7399506      1\n",
       "1291175      1\n",
       "4449197      1\n",
       "4976689      1\n",
       "7931121      1\n",
       "3968634      1\n",
       "10919581     1\n",
       "485026       1\n",
       "849616       1\n",
       "9446613      1\n",
       "11710235     1\n",
       "1797308      1\n",
       "11734192     1\n",
       "10120348     1\n",
       "10043241     1\n",
       "8289310      1\n",
       "6614995      1\n",
       "307163       1\n",
       "11457547     1\n",
       "690206       1\n",
       "4692875      1\n",
       "7346179      1\n",
       "Name: id, Length: 77201, dtype: int64"
      ]
     },
     "execution_count": 7,
     "metadata": {},
     "output_type": "execute_result"
    }
   ],
   "source": [
    "joined.id.value_counts()"
   ]
  },
  {
   "cell_type": "code",
   "execution_count": 8,
   "metadata": {},
   "outputs": [
    {
     "data": {
      "text/plain": [
       "20438    2016-05-02\n",
       "21707    2016-02-02\n",
       "16845    2016-01-02\n",
       "8282     2015-06-01\n",
       "19002    2015-09-02\n",
       "20247    2016-04-03\n",
       "19469    2015-01-02\n",
       "20522    2015-11-20\n",
       "18826    2015-08-01\n",
       "18891    2015-10-01\n",
       "8301     2015-05-02\n",
       "20936    2015-12-02\n",
       "17930    2015-04-02\n",
       "31153    2015-11-02\n",
       "17694    2015-03-02\n",
       "Name: last_scraped, dtype: object"
      ]
     },
     "execution_count": 8,
     "metadata": {},
     "output_type": "execute_result"
    }
   ],
   "source": [
    "joined[joined.id == 4632705].last_scraped"
   ]
  },
  {
   "cell_type": "code",
   "execution_count": 9,
   "metadata": {},
   "outputs": [],
   "source": [
    "joined.last_scraped = pd.to_datetime(joined.last_scraped)"
   ]
  },
  {
   "cell_type": "code",
   "execution_count": 10,
   "metadata": {},
   "outputs": [
    {
     "name": "stderr",
     "output_type": "stream",
     "text": [
      "/Users/jonathandinu/anaconda3/envs/debugging-data/lib/python3.7/site-packages/ipykernel_launcher.py:2: FutureWarning: by argument to sort_index is deprecated, please use .sort_values(by=...)\n",
      "  \n"
     ]
    }
   ],
   "source": [
    "# get most recent\n",
    "dedup = joined.sort_index(by='last_scraped').drop_duplicates(subset=['id'], keep='last')"
   ]
  },
  {
   "cell_type": "code",
   "execution_count": 11,
   "metadata": {},
   "outputs": [
    {
     "data": {
      "text/plain": [
       "19444   2015-01-01\n",
       "1520    2015-01-01\n",
       "1517    2015-01-01\n",
       "21691   2015-01-01\n",
       "21706   2015-01-01\n",
       "1613    2015-01-01\n",
       "21724   2015-01-01\n",
       "21720   2015-01-01\n",
       "19452   2015-01-01\n",
       "21690   2015-01-01\n",
       "24683   2015-01-01\n",
       "24681   2015-01-01\n",
       "24677   2015-01-01\n",
       "19400   2015-01-01\n",
       "21685   2015-01-01\n",
       "21672   2015-01-01\n",
       "21669   2015-01-01\n",
       "21764   2015-01-01\n",
       "19485   2015-01-01\n",
       "10379   2015-01-01\n",
       "21770   2015-01-01\n",
       "25300   2015-01-01\n",
       "21745   2015-01-01\n",
       "1629    2015-01-01\n",
       "10368   2015-01-01\n",
       "10364   2015-01-01\n",
       "24456   2015-01-01\n",
       "851     2015-01-01\n",
       "25619   2015-01-01\n",
       "7923    2015-01-01\n",
       "           ...    \n",
       "21698   2016-05-02\n",
       "21699   2016-05-02\n",
       "21700   2016-05-02\n",
       "21701   2016-05-02\n",
       "21702   2016-05-02\n",
       "21703   2016-05-02\n",
       "21704   2016-05-02\n",
       "21705   2016-05-02\n",
       "21706   2016-05-02\n",
       "21707   2016-05-02\n",
       "21708   2016-05-02\n",
       "21709   2016-05-02\n",
       "21710   2016-05-02\n",
       "21727   2016-05-02\n",
       "21711   2016-05-02\n",
       "21713   2016-05-02\n",
       "21714   2016-05-02\n",
       "21715   2016-05-02\n",
       "21716   2016-05-02\n",
       "21717   2016-05-02\n",
       "21718   2016-05-02\n",
       "21719   2016-05-02\n",
       "21720   2016-05-02\n",
       "21721   2016-05-02\n",
       "21722   2016-05-02\n",
       "21723   2016-05-02\n",
       "21724   2016-05-02\n",
       "21725   2016-05-02\n",
       "21712   2016-05-02\n",
       "0       2016-05-02\n",
       "Name: last_scraped, Length: 77201, dtype: datetime64[ns]"
      ]
     },
     "execution_count": 11,
     "metadata": {},
     "output_type": "execute_result"
    }
   ],
   "source": [
    "dedup.last_scraped"
   ]
  },
  {
   "cell_type": "code",
   "execution_count": 12,
   "metadata": {},
   "outputs": [
    {
     "data": {
      "text/plain": [
       "77201"
      ]
     },
     "execution_count": 12,
     "metadata": {},
     "output_type": "execute_result"
    }
   ],
   "source": [
    "len(dedup)"
   ]
  },
  {
   "cell_type": "code",
   "execution_count": 13,
   "metadata": {},
   "outputs": [
    {
     "data": {
      "text/plain": [
       "77201"
      ]
     },
     "execution_count": 13,
     "metadata": {},
     "output_type": "execute_result"
    }
   ],
   "source": [
    "# sanity checks\n",
    "len(joined.id.unique())"
   ]
  },
  {
   "cell_type": "markdown",
   "metadata": {},
   "source": [
    "### Churn:\n",
    "\n",
    "* Listing removed\n",
    "* No review in last year"
   ]
  },
  {
   "cell_type": "code",
   "execution_count": 14,
   "metadata": {},
   "outputs": [
    {
     "data": {
      "text/plain": [
       "True     44626\n",
       "False    32575\n",
       "Name: churn, dtype: int64"
      ]
     },
     "execution_count": 14,
     "metadata": {},
     "output_type": "execute_result"
    }
   ],
   "source": [
    "# Label Listings that have been removed (not present in most recent scrape)\n",
    "dedup['churn'] = dedup.last_scraped != pd.Timestamp('2016-05-02')\n",
    "dedup['churn'].value_counts()"
   ]
  },
  {
   "cell_type": "markdown",
   "metadata": {},
   "source": [
    "## Feature Transformation"
   ]
  },
  {
   "cell_type": "code",
   "execution_count": 16,
   "metadata": {
    "scrolled": true
   },
   "outputs": [
    {
     "name": "stderr",
     "output_type": "stream",
     "text": [
      "/Users/jonathandinu/anaconda3/envs/debugging-data/lib/python3.7/site-packages/ipykernel_launcher.py:8: SettingWithCopyWarning: \n",
      "A value is trying to be set on a copy of a slice from a DataFrame.\n",
      "Try using .loc[row_indexer,col_indexer] = value instead\n",
      "\n",
      "See the caveats in the documentation: http://pandas.pydata.org/pandas-docs/stable/indexing.html#indexing-view-versus-copy\n",
      "  \n",
      "/Users/jonathandinu/anaconda3/envs/debugging-data/lib/python3.7/site-packages/ipykernel_launcher.py:9: SettingWithCopyWarning: \n",
      "A value is trying to be set on a copy of a slice from a DataFrame.\n",
      "Try using .loc[row_indexer,col_indexer] = value instead\n",
      "\n",
      "See the caveats in the documentation: http://pandas.pydata.org/pandas-docs/stable/indexing.html#indexing-view-versus-copy\n",
      "  if __name__ == '__main__':\n",
      "/Users/jonathandinu/anaconda3/envs/debugging-data/lib/python3.7/site-packages/ipykernel_launcher.py:10: SettingWithCopyWarning: \n",
      "A value is trying to be set on a copy of a slice from a DataFrame.\n",
      "Try using .loc[row_indexer,col_indexer] = value instead\n",
      "\n",
      "See the caveats in the documentation: http://pandas.pydata.org/pandas-docs/stable/indexing.html#indexing-view-versus-copy\n",
      "  # Remove the CWD from sys.path while we load stuff.\n",
      "/Users/jonathandinu/anaconda3/envs/debugging-data/lib/python3.7/site-packages/ipykernel_launcher.py:11: SettingWithCopyWarning: \n",
      "A value is trying to be set on a copy of a slice from a DataFrame.\n",
      "Try using .loc[row_indexer,col_indexer] = value instead\n",
      "\n",
      "See the caveats in the documentation: http://pandas.pydata.org/pandas-docs/stable/indexing.html#indexing-view-versus-copy\n",
      "  # This is added back by InteractiveShellApp.init_path()\n"
     ]
    }
   ],
   "source": [
    "features = dedup[['host_is_superhost', 'price',\n",
    "                    'room_type', 'accommodates',\n",
    "                    'review_scores_cleanliness', 'review_scores_location', 'host_identity_verified',\n",
    "                    'host_response_time', 'host_response_rate', 'host_has_profile_pic', 'availability_365',\n",
    "                    'calculated_host_listings_count', 'calendar_updated', 'last_review', 'minimum_nights',\n",
    "                    'number_of_reviews', 'reviews_per_month', 'churn']]\n",
    "\n",
    "features['last_review'] = pd.to_datetime(features.last_review)\n",
    "features['days_since_last_review'] = (features.last_review.apply(lambda x: pd.Timestamp('2016-05-02') - x)/ np.timedelta64(1, 'D'))\n",
    "features['host_response_rate'] = features.host_response_rate.str.strip('%').astype(float)\n",
    "features['price'] = features.price.str.strip('$').str.replace(',', '').astype(float)"
   ]
  },
  {
   "cell_type": "code",
   "execution_count": 17,
   "metadata": {},
   "outputs": [],
   "source": [
    "features = features.drop('last_review', axis=1)\n",
    "\n",
    "features = features.fillna({'host_is_superhost': 'f', 'reviews_per_month': 0, 'instant_bookable': 'f',\n",
    "                          'review_scores_cleanliness': 0, 'review_scores_location': 0, 'host_identity_verified': 'f',\n",
    "                         'host_identity_verified': 'f', 'host_response_rate': 0, 'host_response_time': 'a few days or more', \n",
    "                         'host_has_profile_pic': 'f', 'calculated_host_listings_count': 1, 'days_since_last_review': 3650,\n",
    "                         'availability_365': features.availability_365.mean()})"
   ]
  },
  {
   "cell_type": "code",
   "execution_count": 18,
   "metadata": {},
   "outputs": [
    {
     "data": {
      "text/html": [
       "<div>\n",
       "<style scoped>\n",
       "    .dataframe tbody tr th:only-of-type {\n",
       "        vertical-align: middle;\n",
       "    }\n",
       "\n",
       "    .dataframe tbody tr th {\n",
       "        vertical-align: top;\n",
       "    }\n",
       "\n",
       "    .dataframe thead th {\n",
       "        text-align: right;\n",
       "    }\n",
       "</style>\n",
       "<table border=\"1\" class=\"dataframe\">\n",
       "  <thead>\n",
       "    <tr style=\"text-align: right;\">\n",
       "      <th></th>\n",
       "      <th>host_is_superhost</th>\n",
       "      <th>price</th>\n",
       "      <th>room_type</th>\n",
       "      <th>accommodates</th>\n",
       "      <th>review_scores_cleanliness</th>\n",
       "      <th>review_scores_location</th>\n",
       "      <th>host_identity_verified</th>\n",
       "      <th>host_response_time</th>\n",
       "      <th>host_response_rate</th>\n",
       "      <th>host_has_profile_pic</th>\n",
       "      <th>availability_365</th>\n",
       "      <th>calculated_host_listings_count</th>\n",
       "      <th>calendar_updated</th>\n",
       "      <th>minimum_nights</th>\n",
       "      <th>number_of_reviews</th>\n",
       "      <th>reviews_per_month</th>\n",
       "      <th>churn</th>\n",
       "      <th>days_since_last_review</th>\n",
       "    </tr>\n",
       "  </thead>\n",
       "  <tbody>\n",
       "    <tr>\n",
       "      <th>19444</th>\n",
       "      <td>f</td>\n",
       "      <td>200.0</td>\n",
       "      <td>Entire home/apt</td>\n",
       "      <td>3</td>\n",
       "      <td>10.0</td>\n",
       "      <td>10.0</td>\n",
       "      <td>f</td>\n",
       "      <td>a few days or more</td>\n",
       "      <td>0.0</td>\n",
       "      <td>f</td>\n",
       "      <td>243.0</td>\n",
       "      <td>1.0</td>\n",
       "      <td>4 months ago</td>\n",
       "      <td>7</td>\n",
       "      <td>4</td>\n",
       "      <td>0.0</td>\n",
       "      <td>True</td>\n",
       "      <td>850.0</td>\n",
       "    </tr>\n",
       "    <tr>\n",
       "      <th>1520</th>\n",
       "      <td>f</td>\n",
       "      <td>450.0</td>\n",
       "      <td>Entire home/apt</td>\n",
       "      <td>4</td>\n",
       "      <td>10.0</td>\n",
       "      <td>10.0</td>\n",
       "      <td>f</td>\n",
       "      <td>a few days or more</td>\n",
       "      <td>0.0</td>\n",
       "      <td>f</td>\n",
       "      <td>208.0</td>\n",
       "      <td>1.0</td>\n",
       "      <td>2 weeks ago</td>\n",
       "      <td>3</td>\n",
       "      <td>7</td>\n",
       "      <td>0.0</td>\n",
       "      <td>True</td>\n",
       "      <td>505.0</td>\n",
       "    </tr>\n",
       "    <tr>\n",
       "      <th>1517</th>\n",
       "      <td>f</td>\n",
       "      <td>28.0</td>\n",
       "      <td>Shared room</td>\n",
       "      <td>1</td>\n",
       "      <td>0.0</td>\n",
       "      <td>0.0</td>\n",
       "      <td>f</td>\n",
       "      <td>a few days or more</td>\n",
       "      <td>0.0</td>\n",
       "      <td>f</td>\n",
       "      <td>364.0</td>\n",
       "      <td>1.0</td>\n",
       "      <td>6 weeks ago</td>\n",
       "      <td>1</td>\n",
       "      <td>0</td>\n",
       "      <td>0.0</td>\n",
       "      <td>True</td>\n",
       "      <td>3650.0</td>\n",
       "    </tr>\n",
       "    <tr>\n",
       "      <th>21691</th>\n",
       "      <td>f</td>\n",
       "      <td>48.0</td>\n",
       "      <td>Private room</td>\n",
       "      <td>2</td>\n",
       "      <td>8.0</td>\n",
       "      <td>6.0</td>\n",
       "      <td>f</td>\n",
       "      <td>a few days or more</td>\n",
       "      <td>0.0</td>\n",
       "      <td>f</td>\n",
       "      <td>143.0</td>\n",
       "      <td>1.0</td>\n",
       "      <td>4 months ago</td>\n",
       "      <td>1</td>\n",
       "      <td>1</td>\n",
       "      <td>0.0</td>\n",
       "      <td>True</td>\n",
       "      <td>612.0</td>\n",
       "    </tr>\n",
       "    <tr>\n",
       "      <th>21706</th>\n",
       "      <td>f</td>\n",
       "      <td>160.0</td>\n",
       "      <td>Private room</td>\n",
       "      <td>2</td>\n",
       "      <td>0.0</td>\n",
       "      <td>0.0</td>\n",
       "      <td>f</td>\n",
       "      <td>a few days or more</td>\n",
       "      <td>0.0</td>\n",
       "      <td>f</td>\n",
       "      <td>365.0</td>\n",
       "      <td>1.0</td>\n",
       "      <td>2 months ago</td>\n",
       "      <td>1</td>\n",
       "      <td>0</td>\n",
       "      <td>0.0</td>\n",
       "      <td>True</td>\n",
       "      <td>3650.0</td>\n",
       "    </tr>\n",
       "  </tbody>\n",
       "</table>\n",
       "</div>"
      ],
      "text/plain": [
       "      host_is_superhost  price        room_type  accommodates  \\\n",
       "19444                 f  200.0  Entire home/apt             3   \n",
       "1520                  f  450.0  Entire home/apt             4   \n",
       "1517                  f   28.0      Shared room             1   \n",
       "21691                 f   48.0     Private room             2   \n",
       "21706                 f  160.0     Private room             2   \n",
       "\n",
       "       review_scores_cleanliness  review_scores_location  \\\n",
       "19444                       10.0                    10.0   \n",
       "1520                        10.0                    10.0   \n",
       "1517                         0.0                     0.0   \n",
       "21691                        8.0                     6.0   \n",
       "21706                        0.0                     0.0   \n",
       "\n",
       "      host_identity_verified  host_response_time  host_response_rate  \\\n",
       "19444                      f  a few days or more                 0.0   \n",
       "1520                       f  a few days or more                 0.0   \n",
       "1517                       f  a few days or more                 0.0   \n",
       "21691                      f  a few days or more                 0.0   \n",
       "21706                      f  a few days or more                 0.0   \n",
       "\n",
       "      host_has_profile_pic  availability_365  calculated_host_listings_count  \\\n",
       "19444                    f             243.0                             1.0   \n",
       "1520                     f             208.0                             1.0   \n",
       "1517                     f             364.0                             1.0   \n",
       "21691                    f             143.0                             1.0   \n",
       "21706                    f             365.0                             1.0   \n",
       "\n",
       "      calendar_updated  minimum_nights  number_of_reviews  reviews_per_month  \\\n",
       "19444     4 months ago               7                  4                0.0   \n",
       "1520       2 weeks ago               3                  7                0.0   \n",
       "1517       6 weeks ago               1                  0                0.0   \n",
       "21691     4 months ago               1                  1                0.0   \n",
       "21706     2 months ago               1                  0                0.0   \n",
       "\n",
       "       churn  days_since_last_review  \n",
       "19444   True                   850.0  \n",
       "1520    True                   505.0  \n",
       "1517    True                  3650.0  \n",
       "21691   True                   612.0  \n",
       "21706   True                  3650.0  "
      ]
     },
     "execution_count": 18,
     "metadata": {},
     "output_type": "execute_result"
    }
   ],
   "source": [
    "features.head()"
   ]
  },
  {
   "cell_type": "code",
   "execution_count": 19,
   "metadata": {},
   "outputs": [],
   "source": [
    "features.to_csv('data/churn.csv')"
   ]
  }
 ],
 "metadata": {
  "anaconda-cloud": {},
  "kernelspec": {
   "display_name": "Python 3",
   "language": "python",
   "name": "python3"
  },
  "language_info": {
   "codemirror_mode": {
    "name": "ipython",
    "version": 3
   },
   "file_extension": ".py",
   "mimetype": "text/x-python",
   "name": "python",
   "nbconvert_exporter": "python",
   "pygments_lexer": "ipython3",
   "version": "3.7.3"
  },
  "widgets": {
   "state": {},
   "version": "1.1.2"
  }
 },
 "nbformat": 4,
 "nbformat_minor": 1
}
